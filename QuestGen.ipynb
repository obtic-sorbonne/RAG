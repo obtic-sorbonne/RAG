{
  "nbformat": 4,
  "nbformat_minor": 0,
  "metadata": {
    "colab": {
      "provenance": [],
      "toc_visible": true
    },
    "kernelspec": {
      "name": "python3",
      "display_name": "Python 3"
    },
    "language_info": {
      "name": "python"
    }
  },
  "cells": [
    {
      "cell_type": "code",
      "source": [
        "import os\n",
        "import pandas as pd\n",
        "import re\n",
        "import numpy as np\n",
        "from tqdm import tqdm"
      ],
      "metadata": {
        "id": "Pq5-co-tZpsS"
      },
      "execution_count": null,
      "outputs": []
    },
    {
      "cell_type": "markdown",
      "source": [
        "# Groq"
      ],
      "metadata": {
        "id": "TZ4krVWEkwNX"
      }
    },
    {
      "cell_type": "code",
      "source": [
        "!pip install groq"
      ],
      "metadata": {
        "colab": {
          "base_uri": "https://localhost:8080/"
        },
        "id": "CCBX8psbkyoT",
        "outputId": "40c44d28-111d-437c-c7cf-dcc3ce093159"
      },
      "execution_count": null,
      "outputs": [
        {
          "output_type": "stream",
          "name": "stdout",
          "text": [
            "Collecting groq\n",
            "  Downloading groq-0.8.0-py3-none-any.whl (105 kB)\n",
            "\u001b[2K     \u001b[90m━━━━━━━━━━━━━━━━━━━━━━━━━━━━━━━━━━━━━━━━\u001b[0m \u001b[32m105.4/105.4 kB\u001b[0m \u001b[31m2.3 MB/s\u001b[0m eta \u001b[36m0:00:00\u001b[0m\n",
            "\u001b[?25hRequirement already satisfied: anyio<5,>=3.5.0 in /usr/local/lib/python3.10/dist-packages (from groq) (3.7.1)\n",
            "Requirement already satisfied: distro<2,>=1.7.0 in /usr/lib/python3/dist-packages (from groq) (1.7.0)\n",
            "Requirement already satisfied: httpx<1,>=0.23.0 in /usr/local/lib/python3.10/dist-packages (from groq) (0.27.0)\n",
            "Requirement already satisfied: pydantic<3,>=1.9.0 in /usr/local/lib/python3.10/dist-packages (from groq) (2.7.3)\n",
            "Requirement already satisfied: sniffio in /usr/local/lib/python3.10/dist-packages (from groq) (1.3.1)\n",
            "Requirement already satisfied: typing-extensions<5,>=4.7 in /usr/local/lib/python3.10/dist-packages (from groq) (4.12.1)\n",
            "Requirement already satisfied: idna>=2.8 in /usr/local/lib/python3.10/dist-packages (from anyio<5,>=3.5.0->groq) (3.7)\n",
            "Requirement already satisfied: exceptiongroup in /usr/local/lib/python3.10/dist-packages (from anyio<5,>=3.5.0->groq) (1.2.1)\n",
            "Requirement already satisfied: certifi in /usr/local/lib/python3.10/dist-packages (from httpx<1,>=0.23.0->groq) (2024.6.2)\n",
            "Requirement already satisfied: httpcore==1.* in /usr/local/lib/python3.10/dist-packages (from httpx<1,>=0.23.0->groq) (1.0.5)\n",
            "Requirement already satisfied: h11<0.15,>=0.13 in /usr/local/lib/python3.10/dist-packages (from httpcore==1.*->httpx<1,>=0.23.0->groq) (0.14.0)\n",
            "Requirement already satisfied: annotated-types>=0.4.0 in /usr/local/lib/python3.10/dist-packages (from pydantic<3,>=1.9.0->groq) (0.7.0)\n",
            "Requirement already satisfied: pydantic-core==2.18.4 in /usr/local/lib/python3.10/dist-packages (from pydantic<3,>=1.9.0->groq) (2.18.4)\n",
            "Installing collected packages: groq\n",
            "Successfully installed groq-0.8.0\n"
          ]
        }
      ]
    },
    {
      "cell_type": "code",
      "source": [
        "from groq import Groq\n",
        "\n",
        "client = Groq(\n",
        "    api_key= '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',\n",
        "    )"
      ],
      "metadata": {
        "id": "iyVtKRiclb5U"
      },
      "execution_count": null,
      "outputs": []
    },
    {
      "cell_type": "markdown",
      "source": [
        "## Making a subset from the excel file from TextSegmentation notebook"
      ],
      "metadata": {
        "id": "PKONd-GGnzQU"
      }
    },
    {
      "cell_type": "code",
      "source": [
        "meds = pd.read_excel('Medicos_segmentados.xlsx')"
      ],
      "metadata": {
        "id": "VMcYja5BEpOc"
      },
      "execution_count": null,
      "outputs": []
    },
    {
      "cell_type": "code",
      "source": [
        "meds_1 = meds[0:3448]"
      ],
      "metadata": {
        "id": "l7dxDU_kniNX"
      },
      "execution_count": null,
      "outputs": []
    },
    {
      "cell_type": "code",
      "source": [
        "## Generating random numbers in order to make a question about the text\n",
        "n = np.random.randint(low = 0,high=56,size=len(meds_1)).tolist()\n",
        "numeros = [1 if i == 12 else 0 for i in n]"
      ],
      "metadata": {
        "id": "Y67OR5zvn2mC"
      },
      "execution_count": null,
      "outputs": []
    },
    {
      "cell_type": "markdown",
      "source": [
        "## Question Generation"
      ],
      "metadata": {
        "id": "JP5vGhNGpaBJ"
      }
    },
    {
      "cell_type": "code",
      "source": [
        "preguntas = []\n",
        "for i in range(len(meds_1)):\n",
        "    if numeros[i] == 1: ## Checks if the radom number is 1 to generate a question or not\n",
        "        context = meds_1.texto[i]   ## Retrieve the context and generate a question about this text\n",
        "        prompt =  f\"\"\"Poser une question sur ce texte donné {{context:}}. \\n\\n\n",
        "                      Context: {context}?\\n\n",
        "                      Answer:\n",
        "                      \"\"\"\n",
        "        respuesta = client.chat.completions.create(messages = [\n",
        "                                                                {'role': 'system', 'content': 'pose une question dans le texte donné'},\n",
        "                                                                {'role': 'user', 'content': prompt},\n",
        "                                                                ],\n",
        "                                                   model=\"llama3-8b-8192\",\n",
        "                                                   temperature=0.5,\n",
        "                                                   max_tokens=1024,\n",
        "                                                   top_p=1,\n",
        "                                                   stop=None,\n",
        "                                                   )\n",
        "        salto = respuesta.choices[0].message.content.find('\\n') ## To extract only the question and not the entire answer by the LLM\n",
        "        preguntas.append(respuesta.choices[0].message.content[salto:].strip()) ## Appending the question to a list\n",
        "    else:\n",
        "        preguntas.append(0)"
      ],
      "metadata": {
        "id": "TSL8V64-oUe_"
      },
      "execution_count": null,
      "outputs": []
    },
    {
      "cell_type": "code",
      "source": [
        "## Appending the question as a column from the previous subset\n",
        "meds_1['Pregunta'] = preguntas"
      ],
      "metadata": {
        "id": "cQ_rW3nSpPs4"
      },
      "execution_count": null,
      "outputs": []
    },
    {
      "cell_type": "code",
      "source": [
        "## Saving as a pickle to mantain all the data\n",
        "meds_1.to_pickle(\"./meds_3448.pkl\")"
      ],
      "metadata": {
        "id": "ZRBeSQTtqv4b"
      },
      "execution_count": null,
      "outputs": []
    }
  ]
}